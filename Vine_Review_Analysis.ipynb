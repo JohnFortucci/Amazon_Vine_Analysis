{
  "nbformat": 4,
  "nbformat_minor": 0,
  "metadata": {
    "colab": {
      "name": "Vine_Review_Analysis.ipynb",
      "provenance": [],
      "collapsed_sections": []
    },
    "kernelspec": {
      "name": "python3",
      "display_name": "Python 3"
    },
    "language_info": {
      "name": "python"
    }
  },
  "cells": [
    {
      "cell_type": "code",
      "execution_count": 1,
      "metadata": {
        "colab": {
          "base_uri": "https://localhost:8080/"
        },
        "id": "IMupsVUUr06L",
        "outputId": "5e2fae3b-3b33-460b-b28e-d1a719bd260b"
      },
      "outputs": [
        {
          "output_type": "stream",
          "name": "stdout",
          "text": [
            "Hit:1 https://developer.download.nvidia.com/compute/cuda/repos/ubuntu1804/x86_64  InRelease\n",
            "Get:2 http://security.ubuntu.com/ubuntu bionic-security InRelease [88.7 kB]\n",
            "Ign:3 https://developer.download.nvidia.com/compute/machine-learning/repos/ubuntu1804/x86_64  InRelease\n",
            "Hit:4 https://developer.download.nvidia.com/compute/machine-learning/repos/ubuntu1804/x86_64  Release\n",
            "Hit:5 http://archive.ubuntu.com/ubuntu bionic InRelease\n",
            "Hit:6 http://ppa.launchpad.net/c2d4u.team/c2d4u4.0+/ubuntu bionic InRelease\n",
            "Get:7 http://archive.ubuntu.com/ubuntu bionic-updates InRelease [88.7 kB]\n",
            "Get:8 https://cloud.r-project.org/bin/linux/ubuntu bionic-cran40/ InRelease [3,626 B]\n",
            "Hit:9 http://ppa.launchpad.net/cran/libgit2/ubuntu bionic InRelease\n",
            "Hit:10 http://ppa.launchpad.net/deadsnakes/ppa/ubuntu bionic InRelease\n",
            "Get:11 http://archive.ubuntu.com/ubuntu bionic-backports InRelease [74.6 kB]\n",
            "Get:12 http://ppa.launchpad.net/graphics-drivers/ppa/ubuntu bionic InRelease [21.3 kB]\n",
            "Get:14 http://security.ubuntu.com/ubuntu bionic-security/multiverse amd64 Packages [22.8 kB]\n",
            "Get:15 http://security.ubuntu.com/ubuntu bionic-security/restricted amd64 Packages [932 kB]\n",
            "Get:16 http://security.ubuntu.com/ubuntu bionic-security/universe amd64 Packages [1,503 kB]\n",
            "Get:17 http://archive.ubuntu.com/ubuntu bionic-updates/restricted amd64 Packages [966 kB]\n",
            "Get:18 http://security.ubuntu.com/ubuntu bionic-security/main amd64 Packages [2,765 kB]\n",
            "Get:19 http://archive.ubuntu.com/ubuntu bionic-updates/universe amd64 Packages [2,277 kB]\n",
            "Get:20 http://archive.ubuntu.com/ubuntu bionic-updates/main amd64 Packages [3,199 kB]\n",
            "Get:21 http://archive.ubuntu.com/ubuntu bionic-updates/multiverse amd64 Packages [29.8 kB]\n",
            "Get:22 http://ppa.launchpad.net/graphics-drivers/ppa/ubuntu bionic/main amd64 Packages [44.3 kB]\n",
            "Fetched 12.0 MB in 5s (2,190 kB/s)\n",
            "Reading package lists... Done\n"
          ]
        }
      ],
      "source": [
        "import os\n",
        "# Find the latest version of spark 3.0 from http://www.apache.org/dist/spark/ and enter as the spark version\n",
        "# For example:\n",
        "# spark_version = 'spark-3.0.3'\n",
        "spark_version = 'spark-3.0.3'\n",
        "os.environ['SPARK_VERSION']=spark_version\n",
        "\n",
        "# Install Spark and Java\n",
        "!apt-get update\n",
        "!apt-get install openjdk-11-jdk-headless -qq > /dev/null\n",
        "!wget -q http://www.apache.org/dist/spark/$SPARK_VERSION/$SPARK_VERSION-bin-hadoop2.7.tgz\n",
        "!tar xf $SPARK_VERSION-bin-hadoop2.7.tgz\n",
        "!pip install -q findspark\n",
        "\n",
        "# Set Environment Variables\n",
        "import os\n",
        "os.environ[\"JAVA_HOME\"] = \"/usr/lib/jvm/java-11-openjdk-amd64\"\n",
        "os.environ[\"SPARK_HOME\"] = f\"/content/{spark_version}-bin-hadoop2.7\"\n",
        "\n",
        "# Start a SparkSession\n",
        "import findspark\n",
        "findspark.init()"
      ]
    },
    {
      "cell_type": "code",
      "source": [
        "from pyspark.sql import SparkSession\n",
        "spark = SparkSession.builder.appName(\"M16-Amazon-Challenge\").config(\"spark.driver.extraClassPath\",\"/content/postgresql-42.2.16.jar\").getOrCreate()"
      ],
      "metadata": {
        "id": "pPzW0afjsg8P"
      },
      "execution_count": 2,
      "outputs": []
    },
    {
      "cell_type": "code",
      "source": [
        "# Load the selected data into an initial data frame from the amazon data reviews\n",
        "\n",
        "from pyspark import SparkFiles\n",
        "url = \"https://s3.amazonaws.com/amazon-reviews-pds/tsv/amazon_reviews_us_Video_Games_v1_00.tsv.gz\"\n",
        "spark.sparkContext.addFile(url)\n",
        "initial_load_df = spark.read.option(\"encoding\", \"UTF-8\").csv(SparkFiles.get(\"\"), sep=\"\\t\", header=True, inferSchema=True)\n",
        "\n",
        "# Display the first 20 Records\n",
        "initial_load_df.show()"
      ],
      "metadata": {
        "id": "0WJhwlqJs3u3"
      },
      "execution_count": null,
      "outputs": []
    },
    {
      "cell_type": "code",
      "source": [
        "# Check the initial_load dataframe count\n",
        "\n",
        "initial_load_df.count()"
      ],
      "metadata": {
        "colab": {
          "base_uri": "https://localhost:8080/"
        },
        "id": "LeOED7lS7ndg",
        "outputId": "78141280-55f4-41bd-f88e-4b7af9a01466"
      },
      "execution_count": 4,
      "outputs": [
        {
          "output_type": "execute_result",
          "data": {
            "text/plain": [
              "1785997"
            ]
          },
          "metadata": {},
          "execution_count": 4
        }
      ]
    },
    {
      "cell_type": "code",
      "source": [
        "# Create the vine_table. DataFrame\n",
        "\n",
        "vine_df = initial_load_df.select([\"review_id\",\"star_rating\",\"helpful_votes\",\"total_votes\",\"vine\",\"verified_purchase\"])\n",
        "vine_df.show(5)"
      ],
      "metadata": {
        "id": "wSwRfqKIt0EQ"
      },
      "execution_count": null,
      "outputs": []
    },
    {
      "cell_type": "code",
      "source": [
        "# Check the vine dataframe count\n",
        "\n",
        "vine_df.count()"
      ],
      "metadata": {
        "colab": {
          "base_uri": "https://localhost:8080/"
        },
        "id": "j_gEs5ILt74g",
        "outputId": "84b34dd2-4771-4455-a762-3805bb5e71cb"
      },
      "execution_count": 6,
      "outputs": [
        {
          "output_type": "execute_result",
          "data": {
            "text/plain": [
              "1785997"
            ]
          },
          "metadata": {},
          "execution_count": 6
        }
      ]
    },
    {
      "cell_type": "code",
      "source": [
        "# Filter the data and create a new DataFrame or table to retrieve all the rows where the total_votes count \n",
        "# is equal to or greater than 20 to pick reviews that are more likely to be helpful and to avoid having division by zero errors later on.\n",
        "\n",
        "vine_df_filtered_GE20 = vine_df.where(vine_df.total_votes>= 20)\n",
        "vine_df_filtered_GE20.show()\n",
        "\n"
      ],
      "metadata": {
        "id": "e2CDXKrsu4Xm"
      },
      "execution_count": null,
      "outputs": []
    },
    {
      "cell_type": "code",
      "source": [
        "# Check the vine filtered dataframe count\n",
        "\n",
        "vine_df_filtered_GE20.count()"
      ],
      "metadata": {
        "colab": {
          "base_uri": "https://localhost:8080/"
        },
        "id": "ize0F7oswn-d",
        "outputId": "f235d3ff-f03a-4e1e-f5d3-1bd72c9e2faf"
      },
      "execution_count": 8,
      "outputs": [
        {
          "output_type": "execute_result",
          "data": {
            "text/plain": [
              "65379"
            ]
          },
          "metadata": {},
          "execution_count": 8
        }
      ]
    },
    {
      "cell_type": "code",
      "source": [
        "# Filter the vine data frame futher by calculating the percentage of helpful_votes in realation to total votes , only keep where the percentage is equal to greater than 50%\n",
        "\n",
        "vine_df_filtered_HV_TV_PER_GE_50 = vine_df_filtered_GE20.where((vine_df_filtered_GE20.helpful_votes/vine_df_filtered_GE20.total_votes) >= 0.5)\n",
        "vine_df_filtered_HV_TV_PER_GE_50.show()"
      ],
      "metadata": {
        "id": "JPkc0hM_w09S"
      },
      "execution_count": null,
      "outputs": []
    },
    {
      "cell_type": "code",
      "source": [
        "# Check the new filtered vine filtered dataframe count\n",
        "\n",
        "vine_df_filtered_HV_TV_PER_GE_50.count()"
      ],
      "metadata": {
        "colab": {
          "base_uri": "https://localhost:8080/"
        },
        "id": "I5Hy4DTZxpJj",
        "outputId": "25e0f9eb-5b6d-4089-a804-ed1de3db6d2b"
      },
      "execution_count": 10,
      "outputs": [
        {
          "output_type": "execute_result",
          "data": {
            "text/plain": [
              "40565"
            ]
          },
          "metadata": {},
          "execution_count": 10
        }
      ]
    },
    {
      "cell_type": "code",
      "source": [
        "# Create a dataframe from the filtered dataframe , that contains only paid vine program reviews (vine equals Y)\n",
        "\n",
        "vine_df_filtered_vine_IS_Y = vine_df_filtered_HV_TV_PER_GE_50.where(vine_df_filtered_HV_TV_PER_GE_50.vine=='Y')\n",
        "vine_df_filtered_vine_IS_Y.show()"
      ],
      "metadata": {
        "id": "oOE2bLIxyCA3"
      },
      "execution_count": null,
      "outputs": []
    },
    {
      "cell_type": "code",
      "source": [
        "# Check the number of entries in the dataframe\n",
        "\n",
        "total_number_of_paid_reviews = vine_df_filtered_vine_IS_Y.count()\n",
        "\n",
        "print(total_number_of_paid_reviews)"
      ],
      "metadata": {
        "colab": {
          "base_uri": "https://localhost:8080/"
        },
        "id": "FXiFsPPj2GGV",
        "outputId": "4850b6fc-5792-4ed7-9461-eeaf79b07edd"
      },
      "execution_count": 22,
      "outputs": [
        {
          "output_type": "stream",
          "name": "stdout",
          "text": [
            "94\n"
          ]
        }
      ]
    },
    {
      "cell_type": "code",
      "source": [
        "# Create a dataframe from the filtered dataframe , that contains only paid vine program reviews (vine equals N)\n",
        "\n",
        "vine_df_filtered_vine_IS_N = vine_df_filtered_HV_TV_PER_GE_50.where(vine_df_filtered_HV_TV_PER_GE_50.vine=='N')\n",
        "vine_df_filtered_vine_IS_N.show()"
      ],
      "metadata": {
        "id": "iWw1UEBH2Y3t"
      },
      "execution_count": null,
      "outputs": []
    },
    {
      "cell_type": "code",
      "source": [
        "# Check the number of entries in the dataframe\n",
        "\n",
        "total_number_of_unpaid_reviews = vine_df_filtered_vine_IS_N.count()\n",
        "\n",
        "print(total_number_of_unpaid_reviews)"
      ],
      "metadata": {
        "colab": {
          "base_uri": "https://localhost:8080/"
        },
        "id": "NS8SJkdB2jfw",
        "outputId": "8e1230ff-f413-481f-e3b8-bb10222b5c5c"
      },
      "execution_count": 23,
      "outputs": [
        {
          "output_type": "stream",
          "name": "stdout",
          "text": [
            "40471\n"
          ]
        }
      ]
    },
    {
      "cell_type": "code",
      "source": [
        "five_star_paid_reviews = vine_df_filtered_vine_IS_Y.select('review_id').where(vine_df_filtered_vine_IS_Y.star_rating==5).count()\n",
        "\n",
        "print(five_star_paid_reviews)"
      ],
      "metadata": {
        "colab": {
          "base_uri": "https://localhost:8080/"
        },
        "id": "1RJ-io-T76wo",
        "outputId": "d9869088-7063-4c08-95f2-eaad735e6201"
      },
      "execution_count": 24,
      "outputs": [
        {
          "output_type": "stream",
          "name": "stdout",
          "text": [
            "48\n"
          ]
        }
      ]
    },
    {
      "cell_type": "code",
      "source": [
        "five_star_unpaid_reviews = vine_df_filtered_vine_IS_N.where(vine_df_filtered_vine_IS_N.star_rating==5).count()\n",
        "print(five_star_unpaid_reviews)"
      ],
      "metadata": {
        "colab": {
          "base_uri": "https://localhost:8080/"
        },
        "id": "fqXrinIQ9bOp",
        "outputId": "91928c40-8649-4458-d56e-7cb984bc371e"
      },
      "execution_count": 25,
      "outputs": [
        {
          "output_type": "stream",
          "name": "stdout",
          "text": [
            "15663\n"
          ]
        }
      ]
    },
    {
      "cell_type": "code",
      "source": [
        "from pyspark.sql.functions import col,when,count\n",
        "\n",
        "vine_df_filtered_vine_IS_N.groupby(\"star_rating\").agg(\n",
        "                                                  count(when(col(\"star_rating\")==5,True)),\n",
        "                                                  count(when(col(\"star_rating\")<=4,True))).show()"
      ],
      "metadata": {
        "id": "6X0Vy8spubPn"
      },
      "execution_count": null,
      "outputs": []
    },
    {
      "cell_type": "code",
      "source": [
        "vine_df_filtered_vine_IS_Y.groupby(\"star_rating\").agg(\n",
        "                                                  count(when(col(\"star_rating\")==5,True)),\n",
        "                                                  count(when(col(\"star_rating\")<=4,True))).show()"
      ],
      "metadata": {
        "id": "BXFCo2OEE1tH"
      },
      "execution_count": null,
      "outputs": []
    },
    {
      "cell_type": "code",
      "source": [
        "# Percentage of 5-Star paid reviews\n",
        "(five_star_unpaid_reviews / total_number_of_unpaid_reviews) * 100\n"
      ],
      "metadata": {
        "colab": {
          "base_uri": "https://localhost:8080/"
        },
        "id": "6R2nujZVHpjx",
        "outputId": "14463ce7-ea32-45cd-9f0a-bed9e096e62d"
      },
      "execution_count": 27,
      "outputs": [
        {
          "output_type": "execute_result",
          "data": {
            "text/plain": [
              "38.701786464381904"
            ]
          },
          "metadata": {},
          "execution_count": 27
        }
      ]
    },
    {
      "cell_type": "code",
      "source": [
        "# Percentage of 5-Star paid reviews\n",
        "(five_star_paid_reviews / total_number_of_paid_reviews) * 100\n"
      ],
      "metadata": {
        "colab": {
          "base_uri": "https://localhost:8080/"
        },
        "id": "g8BshZNXP2l1",
        "outputId": "61c61238-93b2-4692-9706-a2631edb3ca3"
      },
      "execution_count": 28,
      "outputs": [
        {
          "output_type": "execute_result",
          "data": {
            "text/plain": [
              "51.06382978723404"
            ]
          },
          "metadata": {},
          "execution_count": 28
        }
      ]
    }
  ]
}